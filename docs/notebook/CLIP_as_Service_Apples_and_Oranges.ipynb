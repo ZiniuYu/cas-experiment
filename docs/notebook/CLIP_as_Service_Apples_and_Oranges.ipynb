{
  "cells": [
    {
      "cell_type": "markdown",
      "metadata": {
        "id": "9N9D7QbCmFLB"
      },
      "source": [
        "# Apples and Oranges\n",
        "\n",
        "<blockquote>Вы удивились бы, если бы вследствие каких-нибудь обстоятельств на яблонях и апельсинных деревьях вместо плодов вдруг выросли лягушки и ящерицы...\n",
        "\n",
        "*You would be surprised if, due to some circumstance, frogs and lizards suddenly grew on apple and orange trees instead of fruit...*\n",
        "\n",
        "Anton Chekov, *The Bet* (*Пари*), 1888</blockquote>\n",
        "\n",
        "<center><figure><img src=\"https://drive.google.com/uc?id=1AJARLkRsKVMKZ97S0vYXPKwQ401rVFSa\" width=\"550px\" alt=\"Pommes et oranges: Paul Cézanne, ca 1899\"/><figcaption><i>Pommes et oranges</i>: Paul Cézanne, ca 1899.</figcaption>\n",
        "</figure></center>\n",
        "\n",
        "“Comparing apples and oranges” is an idiom for comparing two things that are so different that they are not comparable, but are they really very different? Both are fruits, typically similar in sizes, both are widely eaten and generally enjoyed.  Truly incomparable things would be, for example, apples and jet liners, or oranges and the number 12.\n",
        "\n",
        "It's not trivially easy for a computer to tell the difference between pictures of apples and oranges, and even a basic AI task like this requires some sophisticated programming and machine learning.\n",
        " \n",
        "With [Jina's CLIP-as-service](https://clip-as-service.jina.ai/?utm_source=notebook-cas-apples), all the programming and training are already done! All you need to build a basic classifier is [Jina](https://jina.ai/?utm_source=notebook-cas-apples), a bit of Python, and your own natural language skills.\n",
        "\n"
      ]
    },
    {
      "cell_type": "markdown",
      "metadata": {
        "id": "67VcLoatpwGZ"
      },
      "source": [
        "# Getting Started\n",
        "First, install [DocArray](https://docarray.jina.ai/?utm_source=notebook-cas-apples) and the [CLIP-as-service client](https://clip-as-service.jina.ai/user-guides/client/?utm_source=notebook-cas-apples).\n",
        "\n",
        "**⚠️ You _may_ be asked to \"Restart Runtime\" after this step. If you are, please click the button and restart the runtime.**"
      ]
    },
    {
      "cell_type": "code",
      "execution_count": null,
      "metadata": {
        "id": "SvJLRQ_gmB9a"
      },
      "outputs": [],
      "source": [
        "!pip install clip_client docarray"
      ]
    },
    {
      "cell_type": "markdown",
      "metadata": {
        "id": "dsnzpIeEsuW0"
      },
      "source": [
        "**If you have access to the CaS demo server**, set the value of the variable `cas_server_url` to `grpcs://demo-cas.jina.ai:2096`."
      ]
    },
    {
      "cell_type": "code",
      "execution_count": null,
      "metadata": {
        "id": "EDmz379nqlsB"
      },
      "outputs": [],
      "source": [
        "cas_server_url = 'grpcs://demo-cas.jina.ai:2096'"
      ]
    },
    {
      "cell_type": "markdown",
      "metadata": {
        "id": "S9KWGBPOtfpI"
      },
      "source": [
        "**If you do not have access to the CaS demo server**, you can run CLIP-as-service in a Google Colab notebook by following the instructions on [this page](https://colab.research.google.com/github/jina-ai/clip-as-service/blob/main/docs/hosting/cas-on-colab.ipynb).  Make sure you get the URL including port number of the server, as instructed on that page, and then come back here, uncomment the line below, and set the value of the variable `cas_server_url` to whatever URL you got from that notebook.  It should look like:\n",
        "\n",
        "```\n",
        "<one or two digits>.tcp.ngrok.io:<four or five digits>\n",
        "```\n",
        "\n"
      ]
    },
    {
      "cell_type": "code",
      "execution_count": null,
      "metadata": {
        "id": "AmN52wA4uHxM"
      },
      "outputs": [],
      "source": [
        "# replace '6.tcp.ngrok.io:18096' with the server info from the other notebook,\n",
        "# then uncomment and run the line below:\n",
        "# cas_server_url = 'grpc://6.tcp.ngrok.io:18096' "
      ]
    },
    {
      "cell_type": "markdown",
      "metadata": {
        "id": "6AbipMugypcn"
      },
      "source": [
        "Finally, create a CLIP-as-service client."
      ]
    },
    {
      "cell_type": "code",
      "execution_count": null,
      "metadata": {
        "id": "8q_NcWqRzB3J"
      },
      "outputs": [],
      "source": [
        "from clip_client import Client\n",
        "\n",
        "client = Client(server=cas_server_url, asyncio=True)"
      ]
    },
    {
      "cell_type": "markdown",
      "metadata": {
        "id": "7jokf-f0uSAL"
      },
      "source": [
        "# Download data\n",
        "\n",
        "We have prepared a dataset consisting of photos of apples and oranges from the [Fruits and Vegetables Image Recognition Dataset on Kaggle](https://www.kaggle.com/datasets/kritikseth/fruit-and-vegetable-image-recognition?utm_source=notebook-cas-apples).\n",
        "\n",
        "You can download this directly from Jina Hub into a [DocumentArray](https://docarray.jina.ai/fundamentals/documentarray/index.html?utm_source=notebook-cas-apples) object like this:"
      ]
    },
    {
      "cell_type": "code",
      "execution_count": null,
      "metadata": {
        "id": "fOxYZTaq1KLQ"
      },
      "outputs": [],
      "source": [
        "from docarray import DocumentArray, Document\n",
        "\n",
        "apples_and_oranges = DocumentArray.pull(\"apples_and_oranges\", show_progress=True)\n",
        "print(\"Done loading!\")"
      ]
    },
    {
      "cell_type": "markdown",
      "metadata": {
        "id": "1zOSCcE7oGII"
      },
      "source": [
        "The entire dataset is 143 MB and may take up to a minute to download.\n",
        "\n",
        "A [DocumentArray](https://docarray.jina.ai/?utm_source=notebook-cas-apples) is a container for different kinds of objects and acts much like a list."
      ]
    },
    {
      "cell_type": "code",
      "execution_count": null,
      "metadata": {
        "colab": {
          "base_uri": "https://localhost:8080/"
        },
        "id": "ong6n7VzoMQW",
        "outputId": "5412be41-2b59-4cbc-e5f9-38cc07b7c2de"
      },
      "outputs": [
        {
          "data": {
            "text/plain": [
              "176"
            ]
          },
          "execution_count": 7,
          "metadata": {},
          "output_type": "execute_result"
        }
      ],
      "source": [
        "len(apples_and_oranges)"
      ]
    },
    {
      "cell_type": "markdown",
      "metadata": {
        "id": "vFrNghz379nK"
      },
      "source": [
        "This should be 176 documents, each containing an image of one or more apples or oranges and a label that is either 'apple' or 'orange'."
      ]
    },
    {
      "cell_type": "markdown",
      "metadata": {
        "id": "jKFNzBE1om7h"
      },
      "source": [
        "Let's set up some code to look at the individual images stored in the `DocumentArray` object `apples_and_oranges`:"
      ]
    },
    {
      "cell_type": "code",
      "execution_count": null,
      "metadata": {
        "id": "l2lS4pRJ1VLm"
      },
      "outputs": [],
      "source": [
        "from IPython.display import Image\n",
        "\n",
        "def show_image(doc):\n",
        "  fmt = None\n",
        "  if doc.mime_type and doc.mime_type.startswith(\"image/\"):\n",
        "    fmt = doc.mime_type[6:].strip()\n",
        "  display(Image(data=doc.blob, width=250, format=fmt))\n",
        "  print(f\"Label: {doc.tags['value']}\")\n"
      ]
    },
    {
      "cell_type": "markdown",
      "metadata": {
        "id": "xC-NXUobo4II"
      },
      "source": [
        "The function `show_image()` lets you look at the contents of `apples_and_oranges`:"
      ]
    },
    {
      "cell_type": "code",
      "execution_count": null,
      "metadata": {
        "id": "UN8j_e2g72g8"
      },
      "outputs": [],
      "source": [
        "show_image(apples_and_oranges[0])"
      ]
    },
    {
      "cell_type": "code",
      "execution_count": null,
      "metadata": {
        "id": "F3woNBOrEMBW"
      },
      "outputs": [],
      "source": [
        "show_image(apples_and_oranges[100])"
      ]
    },
    {
      "cell_type": "markdown",
      "metadata": {
        "id": "Q6u9bqTrted0"
      },
      "source": [
        "# Using CLIP-as-service to classify images\n",
        "\n",
        "We can use the CLIP-as-service to identify which images are of apples and which are of oranges, without any complex machine learning programming.\n",
        "\n"
      ]
    },
    {
      "cell_type": "markdown",
      "metadata": {
        "id": "UeBaXzouuFKE"
      },
      "source": [
        "CLIP-as-service is able to compare images to text statements, and decide which statement best characterises the image.\n",
        "\n",
        "Let's take one image as an example."
      ]
    },
    {
      "cell_type": "code",
      "execution_count": null,
      "metadata": {
        "id": "98kr5Vm2tH27"
      },
      "outputs": [],
      "source": [
        "pic = apples_and_oranges[52]\n",
        "show_image(pic) "
      ]
    },
    {
      "cell_type": "markdown",
      "metadata": {
        "id": "hwV_Mh6GvBJH"
      },
      "source": [
        "You should see a picture of an orange above.\n",
        "\n",
        "Now, lets construct a query against the CLIP-as-service server.  We will ask it to decide which of the following statements best describes this image:\n",
        "\n",
        "* *This is an orange.*\n",
        "* *This is an apple.*\n",
        "\n",
        "CLIP-as-service queries take the form of a [Document](https://docarray.jina.ai/fundamentals/document/?utm_source=notebook-cas-apples) object from the `DocumentArray` library:"
      ]
    },
    {
      "cell_type": "code",
      "execution_count": null,
      "metadata": {
        "id": "Mxn252hCug48"
      },
      "outputs": [],
      "source": [
        "from docarray import Document\n",
        "\n",
        "query = Document(\n",
        "    blob=pic.blob,\n",
        "    matches=[\n",
        "        Document(text=\"This is an apple\"),\n",
        "        Document(text=\"This is an orange\"),\n",
        "    ],\n",
        ")"
      ]
    },
    {
      "cell_type": "markdown",
      "metadata": {
        "id": "z53DwSKJwu8e"
      },
      "source": [
        "Then, we send the query to the CLIP-as-service server, using the client we created before.  It returns a `DocumentArray` object, containing one `Document` for each document we transmitted to the server.\n",
        "\n",
        "Since we only sent one `Document` to the server, we only get one `Document` back."
      ]
    },
    {
      "cell_type": "code",
      "execution_count": null,
      "metadata": {
        "id": "KGKpJRRKwunG"
      },
      "outputs": [],
      "source": [
        "result = client.rank([query])\n",
        "print(len(result))"
      ]
    },
    {
      "cell_type": "markdown",
      "metadata": {
        "id": "SVqKiK_hxydM"
      },
      "source": [
        "We can see in the `Document` object that score information has been attached to each sentence."
      ]
    },
    {
      "cell_type": "code",
      "execution_count": null,
      "metadata": {
        "id": "nar9a0BX08yb"
      },
      "outputs": [],
      "source": [
        "result[0]"
      ]
    },
    {
      "cell_type": "markdown",
      "metadata": {
        "id": "d0UFk_q91CRf"
      },
      "source": [
        "Let's define a function to tabulate this into an easier-to-read result:"
      ]
    },
    {
      "cell_type": "code",
      "execution_count": null,
      "metadata": {
        "id": "tpg4R6zS1Bmw"
      },
      "outputs": [],
      "source": [
        "def show_scores(result_document):\n",
        "  print(\"Score     \\tText\")\n",
        "  print(\"----------\\t----------\")\n",
        "  for proposed_match in result_document.matches:\n",
        "    print(\"{:.8f}\".format(proposed_match.scores['clip_score'].value) + \"\\t\" + proposed_match.text)"
      ]
    },
    {
      "cell_type": "markdown",
      "metadata": {
        "id": "_xDGc6yB1b4m"
      },
      "source": [
        "Now let's apply it to the result we got from CLIP:"
      ]
    },
    {
      "cell_type": "code",
      "execution_count": null,
      "metadata": {
        "id": "GVMidTQtwpDc"
      },
      "outputs": [],
      "source": [
        "show_scores(result[0])"
      ]
    },
    {
      "cell_type": "markdown",
      "metadata": {
        "id": "fkCm5uwc0KV_"
      },
      "source": [
        "We can see that CLIP is clearly indicating that \"This is an orange\" better characterises this image than \"This is an apple\" does.\n",
        "\n",
        "In this case, it works about as well if we dispense with the \"this is a...\" part of the query:"
      ]
    },
    {
      "cell_type": "code",
      "execution_count": null,
      "metadata": {
        "id": "Si2FqR_G0DAo"
      },
      "outputs": [],
      "source": [
        "query = Document(\n",
        "    blob=pic.blob,\n",
        "    matches=[\n",
        "        Document(text=\"apple\"),\n",
        "        Document(text=\"orange\"),\n",
        "    ],\n",
        ")\n",
        "\n",
        "result = client.rank([query])\n",
        "\n",
        "show_scores(result[0])"
      ]
    },
    {
      "cell_type": "markdown",
      "metadata": {
        "id": "8yrrTSTG50DT"
      },
      "source": [
        "We can do this for any image in `apples_and_oranges`:"
      ]
    },
    {
      "cell_type": "code",
      "execution_count": null,
      "metadata": {
        "id": "Yj_UT9eu2To-"
      },
      "outputs": [],
      "source": [
        "def is_it_apple_or_orange(doc):\n",
        "  query = Document(\n",
        "    blob=doc.blob,\n",
        "    matches=[\n",
        "        Document(text=\"apple\"),\n",
        "        Document(text=\"orange\"),\n",
        "    ],\n",
        "  )\n",
        "  result = client.rank([query])\n",
        "  best_match = result[0].matches[0] # the matches are reordered from best to worst by the server\n",
        "  show_image(doc)\n",
        "  print(f\"Best match: {best_match.text}\")\n",
        "  print(f\"Score: {best_match.scores['clip_score'].value}\")\n",
        "\n",
        "is_it_apple_or_orange(apples_and_oranges[12])"
      ]
    },
    {
      "cell_type": "markdown",
      "metadata": {
        "id": "-cVep27G7eV7"
      },
      "source": [
        "Try it with other images from `apples_and_oranges`."
      ]
    },
    {
      "cell_type": "code",
      "execution_count": null,
      "metadata": {
        "id": "jYBnR2Kd7KwV"
      },
      "outputs": [],
      "source": [
        "is_it_apple_or_orange(apples_and_oranges[58])\n",
        "is_it_apple_or_orange(apples_and_oranges[23])\n",
        "is_it_apple_or_orange(apples_and_oranges[31])\n"
      ]
    },
    {
      "cell_type": "markdown",
      "metadata": {
        "id": "ROShLfXaAIku"
      },
      "source": [
        "**Accuracy of CLIP**\n",
        "\n",
        "We can check how well CLIP can tell the difference between apples and oranges by processing all of the images in `apples_and_oranges`.\n",
        "\n",
        "Let's create a function to do that."
      ]
    },
    {
      "cell_type": "code",
      "execution_count": null,
      "metadata": {
        "id": "9ndki-59p90t"
      },
      "outputs": [],
      "source": [
        "def clip_classifier(data, matches):\n",
        "  # first we break the data into batches of ten\n",
        "  batches = [data[i:i+10] for i in range(0, len(data), 10)]\n",
        "\n",
        "  label_predictions = []\n",
        "  errors = []\n",
        "\n",
        "  # we iterate over the batches, sending them to CLIP-as-service\n",
        "  for batch_num, batch in enumerate(batches):\n",
        "    print(f\"Processing batch #{batch_num}. Errors so far: {len(errors)}\")\n",
        "    queries = []\n",
        "    for doc in batch:\n",
        "      queries.append(\n",
        "          Document(\n",
        "              blob=doc.blob,\n",
        "              tags=doc.tags,\n",
        "              matches=[Document(text=m) for m in matches],\n",
        "          )\n",
        "      )\n",
        "    results = client.rank(queries)\n",
        "    for result_doc in results:\n",
        "      label_predictions.append((result_doc.tags['value'], result_doc.matches[0].text))\n",
        "      if result_doc.tags['value'] !=  result_doc.matches[0].text:\n",
        "        errors.append(result_doc)\n",
        "\n",
        "  print(f\"Total processed: {len(label_predictions)}\")\n",
        "  print(f\"Errors: {len(errors)}\")\n",
        "  return label_predictions, errors\n",
        "\n",
        "labels, errors = clip_classifier(apples_and_oranges, [\"apple\", \"orange\"])"
      ]
    },
    {
      "cell_type": "markdown",
      "metadata": {
        "id": "zNfqKdh3F5oM"
      },
      "source": [
        "You should see **1** error out of 176, or a raw accuracy of 99.4%.  This is the CLIP model without fine-tuning, so you can see that it can be used a low-error object identifier in many cases without any training or programming.\n",
        "\n",
        "CLIP-as-service enables you to integrate this in any Python program without any specialized AI or machine learning knowledge: Just the Jina AI client installation, general Python, and the English language."
      ]
    },
    {
      "cell_type": "markdown",
      "metadata": {
        "id": "Gcs8qXRjGQLP"
      },
      "source": [
        "Let's take a look at the error:"
      ]
    },
    {
      "cell_type": "code",
      "execution_count": null,
      "metadata": {
        "colab": {
          "base_uri": "https://localhost:8080/",
          "height": 222
        },
        "id": "GIQy1oHfDB7H",
        "outputId": "a2b5b225-7b0a-4995-b252-87a25ecf4952"
      },
      "outputs": [
        {
          "data": {
            "image/jpeg": "[encoded data removed]",
            "text/plain": [
              "<IPython.core.display.Image object>"
            ]
          },
          "metadata": {},
          "output_type": "display_data"
        },
        {
          "name": "stdout",
          "output_type": "stream",
          "text": [
            "Label: orange\n"
          ]
        }
      ],
      "source": [
        "show_image(errors[0])"
      ]
    },
    {
      "cell_type": "markdown",
      "metadata": {
        "id": "d8Okjc3KzcVK"
      },
      "source": [
        "On visual inspection, you can see how this might be mistaken for a green apple at first glance even by a human."
      ]
    },
    {
      "cell_type": "markdown",
      "metadata": {
        "id": "EqOB9FiG7-Lz"
      },
      "source": [
        "**Using other images**\n",
        "\n",
        "You can even try it with your own images.  Just provide a URI to access an image via the Internet.  If you are running this in a local notebook instead of Colab, you can provide a file path as URI to process images you have locally stored."
      ]
    },
    {
      "cell_type": "code",
      "execution_count": null,
      "metadata": {
        "id": "KvwpGjjG7rnh"
      },
      "outputs": [],
      "source": [
        "def test_image_uri(user_uri, texts):\n",
        "  query = Document(\n",
        "    uri=user_uri,\n",
        "    matches=[\n",
        "        Document(text=text)\n",
        "        for text in texts\n",
        "    ],\n",
        "  )\n",
        "  result = client.rank([query])\n",
        "  best_match = result[0].matches[0] # the matches are reordered from best to worst by the server\n",
        "  display(Image(url=user_uri, width=250))\n",
        "  print(f\"Best match: {best_match.text}\")\n",
        "  print(f\"Score: {best_match.scores['clip_score'].value}\")\n",
        "\n",
        "test_image_uri(\"https://upload.wikimedia.org/wikipedia/commons/a/af/5_apples.jpg\", [\"apple\", \"orange\"])\n",
        "\n"
      ]
    },
    {
      "cell_type": "markdown",
      "metadata": {
        "id": "bAD5dpEu9Eod"
      },
      "source": [
        "Try it with other pictures of apples and oranges.  Please don't use excessively large images."
      ]
    },
    {
      "cell_type": "code",
      "execution_count": null,
      "metadata": {
        "id": "8Vmq07o18m77"
      },
      "outputs": [],
      "source": [
        "test_image_uri(\"https://upload.wikimedia.org/wikipedia/commons/3/37/Gammel_dame_kj%C3%B8per_epler.JPG\", [\"apple\", \"orange\"])"
      ]
    },
    {
      "cell_type": "markdown",
      "metadata": {
        "id": "gAmWCUTq_Fz6"
      },
      "source": [
        "Now, let's see what happens if we give CLIP-as-service and image with both an apple and an orange in it."
      ]
    },
    {
      "cell_type": "code",
      "execution_count": null,
      "metadata": {
        "id": "ZbUVJroP8uMy"
      },
      "outputs": [],
      "source": [
        "test_image_uri(\"https://upload.wikimedia.org/wikipedia/commons/a/a8/Apple_and_Orange_-_they_do_not_compare.jpg\", [\"apple\", \"orange\"])"
      ]
    },
    {
      "cell_type": "markdown",
      "metadata": {
        "id": "9bC7d6rI_NcE"
      },
      "source": [
        "You can see that forcing CLIP to answer with either \"apple\" or \"orange\" yields a low score when both apply.  No matter what we give it, it **has to** choose one as more representative of the image than the other.\n",
        "\n",
        "If a picture has neither apples nor oranges in it, the result is very unreliable:"
      ]
    },
    {
      "cell_type": "code",
      "execution_count": null,
      "metadata": {
        "id": "AkxZBsKkLaw2"
      },
      "outputs": [],
      "source": [
        "test_image_uri(\"https://upload.wikimedia.org/wikipedia/commons/5/55/Banana_%281%29.jpg\", [\"apple\", \"orange\"])"
      ]
    },
    {
      "cell_type": "code",
      "execution_count": null,
      "metadata": {
        "id": "fF7aeeVU0J9Y"
      },
      "outputs": [],
      "source": [
        "test_image_uri(\"https://upload.wikimedia.org/wikipedia/commons/thumb/e/ec/\"\n",
        "\"Mona_Lisa%2C_by_Leonardo_da_Vinci%2C_from_C2RMF_retouched.jpg/515px-Mona_\"\n",
        "\"Lisa%2C_by_Leonardo_da_Vinci%2C_from_C2RMF_retouched.jpg\", [\"apple\", \"orange\"])"
      ]
    },
    {
      "cell_type": "markdown",
      "metadata": {
        "id": "sfbUvYFeM5_1"
      },
      "source": [
        "**It is very important to understand that CLIP queries will always select the best fitting of the options you give it.  If none of those options fits, the results will be somewhat random.**\n",
        "\n",
        "One way to address this is to try to use polar sentences for matching.  For example, 'apple' and 'not apple':"
      ]
    },
    {
      "cell_type": "code",
      "execution_count": null,
      "metadata": {
        "id": "2hDOvlzqMwoB"
      },
      "outputs": [],
      "source": [
        "\n",
        "test_image_uri(\"https://upload.wikimedia.org/wikipedia/commons/a/af/5_apples.jpg\", [\"apple\", \"not apple\"])"
      ]
    },
    {
      "cell_type": "code",
      "execution_count": null,
      "metadata": {
        "id": "Rv8U4eduNpSr"
      },
      "outputs": [],
      "source": [
        "test_image_uri(\"https://upload.wikimedia.org/wikipedia/commons/9/92/ATIIIII.jpg\", [\"apple\", \"not apple\"])"
      ]
    },
    {
      "cell_type": "code",
      "execution_count": null,
      "metadata": {
        "id": "5-FVjQcXOLIf"
      },
      "outputs": [],
      "source": [
        "test_image_uri(\"https://upload.wikimedia.org/wikipedia/commons/5/55/Banana_%281%29.jpg\", [\"apple\", \"not apple\"])"
      ]
    },
    {
      "cell_type": "code",
      "execution_count": null,
      "metadata": {
        "id": "cgYXoukU0q7O"
      },
      "outputs": [],
      "source": [
        "test_image_uri(\"https://upload.wikimedia.org/wikipedia/commons/thumb/e/ec/Mona_Lisa%2C_by_Leonardo_da_Vinci\"\n",
        "\"%2C_from_C2RMF_retouched.jpg/515px-Mona_Lisa%2C_by_Leonardo_da_Vinci%2C_from_C2RMF_retouched.jpg\", [\"apple\", \"not apple\"])"
      ]
    },
    {
      "cell_type": "markdown",
      "metadata": {
        "id": "qgZU2VL2Rr_O"
      },
      "source": [
        "Let's see how accurate it is with the entire apples and oranges dataset:"
      ]
    },
    {
      "cell_type": "code",
      "execution_count": null,
      "metadata": {
        "id": "oyS2po90Rrbj"
      },
      "outputs": [],
      "source": [
        "# correct the tags to the new class labels\n",
        "apples_and_not_apples = DocumentArray(\n",
        "    [\n",
        "        Document(\n",
        "            blob=doc.blob,\n",
        "            tags={'value' : 'apple' if doc.tags['value'] == 'apple' else 'not apple'}\n",
        "        )\n",
        "        for doc in apples_and_oranges\n",
        "    ]\n",
        ")\n",
        "\n",
        "labels, errors = clip_classifier(apples_and_not_apples, [\"apple\", \"not apple\"])"
      ]
    },
    {
      "cell_type": "markdown",
      "metadata": {
        "id": "VvoZJcUMUA25"
      },
      "source": [
        "You can see there are a lot errors! This classifier is only 86.3% accurate.\n",
        "\n",
        "Let's count the errors per class:"
      ]
    },
    {
      "cell_type": "code",
      "execution_count": null,
      "metadata": {
        "colab": {
          "base_uri": "https://localhost:8080/"
        },
        "id": "bJ5Xy2SOnjKQ",
        "outputId": "80b1d56a-2b0d-43ce-9066-8d72868791a9"
      },
      "outputs": [
        {
          "name": "stdout",
          "output_type": "stream",
          "text": [
            "apple errors:\t23 out of 88\n",
            "orange errors:\t1 out of 88\n"
          ]
        }
      ],
      "source": [
        "total_counts = {'apple':0, 'not apple':0}\n",
        "for doc in apples_and_not_apples:\n",
        "  total_counts[doc.tags['value']] += 1\n",
        "\n",
        "error_counts = {'apple':0, 'not apple':0}\n",
        "for doc in errors:\n",
        "  error_counts[doc.tags['value']] += 1\n",
        "print(f\"apple errors:\\t{error_counts['apple']} out of {total_counts['apple']}\")\n",
        "print(f\"orange errors:\\t{error_counts['not apple']} out of {total_counts['not apple']}\")"
      ]
    },
    {
      "cell_type": "markdown",
      "metadata": {
        "id": "pOReLrxq-oqb"
      },
      "source": [
        "The errors are very asymetric. Only one orange was identified as an apple, but many apples were identified as 'not apple'.\n",
        "\n",
        "This is because the text 'apple' and 'not apple' are very similar from the perspective of the neural network.  **CLIP does not handle negation the way people do, and it's much more reliable to give it positive statements to identify with.**\n",
        "\n",
        "Instead of using 'not', let's try a different pair of contrasts: 'apple' and 'fruit':"
      ]
    },
    {
      "cell_type": "code",
      "execution_count": null,
      "metadata": {
        "id": "Gp1jRt-d6zN9"
      },
      "outputs": [],
      "source": [
        "# correct the tags to the new class labels\n",
        "apples_and_fruit = DocumentArray(\n",
        "    [\n",
        "        Document(\n",
        "            blob=doc.blob,\n",
        "            tags={'value' : 'apple' if doc.tags['value'] == 'apple' else 'fruit'}\n",
        "        )\n",
        "        for doc in apples_and_oranges\n",
        "    ]\n",
        ")\n",
        "\n",
        "labels, errors = clip_classifier(apples_and_fruit, [\"apple\", \"fruit\"])"
      ]
    },
    {
      "cell_type": "markdown",
      "metadata": {
        "id": "EoZnAsujmIdu"
      },
      "source": [
        "Using this constrast, there are far fewer errors.  Accuracy is 97.2%.  Pictures of oranges match \"fruit\" better than \"not apple\".\n",
        "\n",
        "Let's look at the errors:"
      ]
    },
    {
      "cell_type": "code",
      "execution_count": null,
      "metadata": {
        "colab": {
          "background_save": true
        },
        "id": "QCTB0f_5UwEB"
      },
      "outputs": [],
      "source": [
        "for error in errors:\n",
        "  show_image(error)\n",
        "  print(f\"Predicted label: {error.matches[0].text}\")"
      ]
    },
    {
      "cell_type": "markdown",
      "metadata": {
        "id": "AcldMkTL0sjD"
      },
      "source": [
        "Most of the errors are apples that match \"fruit\" better than \"apple\", according to CLIP, and one very anomalous orange.\n",
        "\n",
        "But we still have the problem that any picture that's not fruit at all is still going to be labeled as either an apple or some kind of fruit.  For example:"
      ]
    },
    {
      "cell_type": "code",
      "execution_count": null,
      "metadata": {
        "colab": {
          "base_uri": "https://localhost:8080/",
          "height": 429
        },
        "id": "TOJPncvQ2ZrS",
        "outputId": "b1b64c31-b370-47c4-e7bc-fbd253ce735f"
      },
      "outputs": [
        {
          "data": {
            "text/html": [
              "<pre style=\"white-space:pre;overflow-x:auto;line-height:normal;font-family:Menlo,'DejaVu Sans Mono',consolas,'Courier New',monospace\">\n",
              "</pre>\n"
            ],
            "text/plain": [
              "\n"
            ]
          },
          "metadata": {},
          "output_type": "display_data"
        },
        {
          "data": {
            "text/html": [
              "<pre style=\"white-space:pre;overflow-x:auto;line-height:normal;font-family:Menlo,'DejaVu Sans Mono',consolas,'Courier New',monospace\">\n",
              "</pre>\n"
            ],
            "text/plain": [
              "\n"
            ]
          },
          "metadata": {},
          "output_type": "display_data"
        },
        {
          "data": {
            "text/html": [
              "<img src=\"https://upload.wikimedia.org/wikipedia/commons/thumb/e/ec/Mona_Lisa%2C_by_Leonardo_da_Vinci%2C_from_C2RMF_retouched.jpg/515px-Mona_Lisa%2C_by_Leonardo_da_Vinci%2C_from_C2RMF_retouched.jpg\" width=\"250\"/>"
            ],
            "text/plain": [
              "<IPython.core.display.Image object>"
            ]
          },
          "metadata": {},
          "output_type": "display_data"
        },
        {
          "name": "stdout",
          "output_type": "stream",
          "text": [
            "Best match: fruit\n",
            "Score: 0.5066827535629272\n"
          ]
        }
      ],
      "source": [
        "test_image_uri(\"https://upload.wikimedia.org/wikipedia/commons/thumb/e/ec/Mona_Lisa%2C_by_Leonardo_da_Vinci\"\n",
        "\"%2C_from_C2RMF_retouched.jpg/515px-Mona_Lisa%2C_by_Leonardo_da_Vinci%2C_from_C2RMF_retouched.jpg\", [\"apple\", \"fruit\"])"
      ]
    },
    {
      "cell_type": "markdown",
      "metadata": {
        "id": "PQsMJuP32wa7"
      },
      "source": [
        "We can resolve this by adding different \"control\" words that describe images more generally.  Like \"picture\"\""
      ]
    },
    {
      "cell_type": "code",
      "execution_count": null,
      "metadata": {
        "id": "_rGMhhCi29kN"
      },
      "outputs": [],
      "source": [
        "test_image_uri(\"https://upload.wikimedia.org/wikipedia/commons/thumb/e/ec/Mona_Lisa%2C_by_Leonardo_da_Vinci\"\n",
        "\"%2C_from_C2RMF_retouched.jpg/515px-Mona_Lisa%2C_by_Leonardo_da_Vinci%2C_from_C2RMF_retouched.jpg\", [\"apple\", \"picture\"])"
      ]
    },
    {
      "cell_type": "markdown",
      "metadata": {
        "id": "pw8mY4WS3DRm"
      },
      "source": [
        "Let's try it with the apple and orange pictures:"
      ]
    },
    {
      "cell_type": "code",
      "execution_count": null,
      "metadata": {
        "id": "Ijf7MUGZ0gqU"
      },
      "outputs": [],
      "source": [
        "# correct the tags to the new class labels\n",
        "apples_and_other = DocumentArray(\n",
        "    [\n",
        "        Document(\n",
        "            blob=doc.blob,\n",
        "            tags={'value' : 'apple' if doc.tags['value'] == 'apple' else 'picture'}\n",
        "        )\n",
        "        for doc in apples_and_oranges\n",
        "    ]\n",
        ")\n",
        "\n",
        "\n",
        "labels, errors = clip_classifier(apples_and_other, [\"apple\", \"picture\"])"
      ]
    },
    {
      "cell_type": "markdown",
      "metadata": {
        "id": "QXPCHphA3ddu"
      },
      "source": [
        "Using \"picture\" instead of \"fruit\" to contrast to \"apple\" produces a lot more errors."
      ]
    },
    {
      "cell_type": "code",
      "execution_count": null,
      "metadata": {
        "colab": {
          "background_save": true
        },
        "id": "IoMbGMJ21f_A"
      },
      "outputs": [],
      "source": [
        "for error in errors:\n",
        "  show_image(error)\n",
        "  print(f\"Predicted label: {error.matches[0].text}\")"
      ]
    },
    {
      "cell_type": "markdown",
      "metadata": {
        "id": "Zkg7pC6Z3umM"
      },
      "source": [
        "Quite a few pictures of oranges match \"apple\" better than \"picture\", according to CLIP. But what happens if we contrast \"apple\" with BOTH \"picture\" and \"fruit\"?\n",
        "\n",
        "To do this, we need to modify the `clip_classifier` method to just test for apples and ignore other categories:"
      ]
    },
    {
      "cell_type": "code",
      "execution_count": null,
      "metadata": {
        "id": "UNtXxI-869Oq"
      },
      "outputs": [],
      "source": [
        "def apple_classifier(data, matches):\n",
        "  # first we break the data into batches of ten\n",
        "  batches = [data[i:i+10] for i in range(0, len(data), 10)]\n",
        "\n",
        "  label_predictions = []\n",
        "  errors = []\n",
        "\n",
        "  # we iterate over the batches, sending them to CLIP-as-service\n",
        "  for batch_num, batch in enumerate(batches):\n",
        "    print(f\"Processing batch #{batch_num}. Errors so far: {len(errors)}\")\n",
        "    queries = []\n",
        "    for doc in batch:\n",
        "      queries.append(\n",
        "          Document(\n",
        "              blob=doc.blob,\n",
        "              tags=doc.tags,\n",
        "              matches=[Document(text=m) for m in matches],\n",
        "          )\n",
        "      )\n",
        "    results = client.rank(queries)\n",
        "    for result_doc in results:\n",
        "      label_predictions.append((result_doc.tags['value'], result_doc.matches[0].text))\n",
        "      if result_doc.tags['value'] ==  \"apple\" and result_doc.matches[0].text != \"apple\":\n",
        "        errors.append(result_doc)\n",
        "    if result_doc.tags['value'] !=  \"apple\" and result_doc.matches[0].text == \"apple\":\n",
        "        errors.append(result_doc)\n",
        "        \n",
        "  print(f\"Total processed: {len(label_predictions)}\")\n",
        "  print(f\"Errors: {len(errors)}\")\n",
        "  return label_predictions, errors\n",
        "\n",
        "labels, errors = apple_classifier(apples_and_oranges, [\"apple\", \"fruit\", \"picture\"])"
      ]
    },
    {
      "cell_type": "markdown",
      "metadata": {
        "id": "9SXh9VSU6WKt"
      },
      "source": [
        "This reduces the errors by quite a lot compared to contrasting \"apple\" with \"picture\", but only a little bit compared to \"apple\" and \"fruit\"."
      ]
    },
    {
      "cell_type": "code",
      "execution_count": null,
      "metadata": {
        "id": "EmBvGC5w50eV"
      },
      "outputs": [],
      "source": [
        "for error in errors:\n",
        "  show_image(error)\n",
        "  print(f\"Predicted label: {error.matches[0].text}\")"
      ]
    },
    {
      "cell_type": "markdown",
      "metadata": {
        "id": "0O087B4Jef4z"
      },
      "source": [
        "However, we can reasonably reliably filter out images that are neither \"fruit\" nor \"apple\":"
      ]
    },
    {
      "cell_type": "code",
      "execution_count": null,
      "metadata": {
        "id": "6CmyNydW6ILe"
      },
      "outputs": [],
      "source": [
        "test_image_uri(\"https://upload.wikimedia.org/wikipedia/commons/thumb/e/ec/Mona_Lisa%2C_by_Leonardo_da_Vinci\"\n",
        "\"%2C_from_C2RMF_retouched.jpg/515px-Mona_Lisa%2C_by_Leonardo_da_Vinci%2C_from_C2RMF_retouched.jpg\", [\"apple\", \"fruit\", \"picture\"])"
      ]
    },
    {
      "cell_type": "code",
      "execution_count": null,
      "metadata": {
        "id": "OKp5TdfDevPV"
      },
      "outputs": [],
      "source": [
        "test_image_uri(\"https://upload.wikimedia.org/wikipedia/commons/6/6f/Macropodus_opercularis_-_side_%28aka%29.jpg\", [\"apple\", \"fruit\", \"picture\"])"
      ]
    },
    {
      "cell_type": "code",
      "execution_count": null,
      "metadata": {
        "id": "VWfV-lp1fpss"
      },
      "outputs": [],
      "source": [
        "test_image_uri(\"https://upload.wikimedia.org/wikipedia/commons/b/bd/Spaghetti_%284623718139%29.jpg\", [\"apple\", \"fruit\", \"picture\"])"
      ]
    },
    {
      "cell_type": "markdown",
      "metadata": {
        "id": "wqg8lF5chZ_R"
      },
      "source": [
        "By experimenting with the contrasting texts you use, you can use CLIP-as-service to get very good image classification results **without any programming at all**."
      ]
    },
    {
      "cell_type": "markdown",
      "metadata": {
        "id": "ZQaXtOWN7LXN"
      },
      "source": [
        "# Powerful features for image analysis\n",
        "\n",
        "In addition to classifying scenes and objects in images, CLIP-as-service can analyse the number of items in an image and their relative locations. \n",
        "\n"
      ]
    },
    {
      "cell_type": "code",
      "execution_count": null,
      "metadata": {
        "id": "S7u2n-o5xNBv"
      },
      "outputs": [],
      "source": [
        "# If you ran the previous section, you can skip this part\n",
        "from docarray import DocumentArray, Document\n",
        "from IPython.display import Image\n",
        "\n",
        "# This function is already defined if you ran the previous section\n",
        "def show_scores(result_document):\n",
        "  print(\"Score     \\tText\")\n",
        "  print(\"----------\\t----------\")\n",
        "  for proposed_match in result_document.matches:\n",
        "    print(\"{:.8f}\".format(proposed_match.scores['clip_score'].value) + \"\\t\" + proposed_match.text)\n",
        "\n",
        "def show_image(doc):\n",
        "  fmt = None\n",
        "  if doc.mime_type and doc.mime_type.startswith(\"image/\"):\n",
        "    fmt = doc.mime_type[6:].strip()\n",
        "  display(Image(data=doc.blob, width=250, format=fmt))\n",
        "  print(f\"Label: {doc.tags['value']}\")\n",
        "\n",
        "apples_and_oranges = DocumentArray.pull(\"apples_and_oranges\", show_progress=True)\n",
        "print(\"Done loading!\")"
      ]
    },
    {
      "cell_type": "markdown",
      "metadata": {
        "id": "diMls_TWxIQA"
      },
      "source": [
        "## Counting objects\n",
        "\n",
        "You can use CLIP-as-service to count objects in images using natural language. Let's define a function to do so by using the same query interface used above to tell apples from oranges:"
      ]
    },
    {
      "cell_type": "code",
      "execution_count": null,
      "metadata": {
        "id": "BbvNCD8M7jGe"
      },
      "outputs": [],
      "source": [
        "def count_apples(image):\n",
        "    query = Document(\n",
        "        blob=image.blob,\n",
        "        matches=[\n",
        "            Document(text=\"orange\"),\n",
        "            Document(text=\"one apple\"),\n",
        "            Document(text=\"two apples\"),\n",
        "            Document(text=\"three apples\"),\n",
        "            Document(text=\"four or more apples\"),\n",
        "        ],\n",
        "        tags=image.tags\n",
        "    )\n",
        "    result = client.rank([query])\n",
        "    show_image(query)\n",
        "    print()\n",
        "    show_scores(result[0])\n",
        "    print()"
      ]
    },
    {
      "cell_type": "markdown",
      "metadata": {
        "id": "xQoUsUqyAxm-"
      },
      "source": [
        "Let's test this on images with more than one apple:"
      ]
    },
    {
      "cell_type": "code",
      "execution_count": null,
      "metadata": {
        "id": "f7tfFvzHAxN9"
      },
      "outputs": [],
      "source": [
        "count_apples(apples_and_oranges[0])\n",
        "count_apples(apples_and_oranges[32])\n",
        "count_apples(apples_and_oranges[172])\n",
        "count_apples(apples_and_oranges[173])"
      ]
    },
    {
      "cell_type": "markdown",
      "metadata": {
        "id": "i4sVsar9hxDs"
      },
      "source": [
        "This approach to counting becomes unreliable with more than three or four things to count."
      ]
    },
    {
      "cell_type": "markdown",
      "metadata": {
        "id": "Vx_ra0csh4CT"
      },
      "source": [
        "## Spatial Relations\n",
        "\n",
        "CLIP-as-service can also detect some spatial relationships.  For example, is the apple in front of or behind the grapes?"
      ]
    },
    {
      "cell_type": "code",
      "execution_count": null,
      "metadata": {
        "id": "_dO4Y1vnjs0w"
      },
      "outputs": [],
      "source": [
        "image = Document(uri=\"https://upload.wikimedia.org/wikipedia/commons/0/00/Grapes_and_apple.jpg\", tags={'value': 'label'})\n",
        "image.load_uri_to_blob()\n",
        "\n",
        "query = Document(\n",
        "    blob=image.blob,\n",
        "    matches=[\n",
        "        Document(text=\"the apple is in front of the grapes\"),\n",
        "        Document(text=\"the apple is behind the grapes\"),\n",
        "        \n",
        "    ],\n",
        "    tags=image.tags\n",
        ")\n",
        "result = client.rank([query])\n",
        "display(Image(data=query.blob, width=250))\n",
        "print()\n",
        "show_scores(result[0])"
      ]
    },
    {
      "cell_type": "code",
      "execution_count": null,
      "metadata": {
        "id": "TnWgPQuKwbu6"
      },
      "outputs": [],
      "source": [
        "image = Document(uri=\"https://upload.wikimedia.org/wikipedia/commons/f/f5/2016-09-15_04-25-35_recup.jpg\", tags={'value': 'label'})\n",
        "image.load_uri_to_blob()\n",
        "\n",
        "query = Document(\n",
        "    blob=image.blob,\n",
        "    matches=[\n",
        "        Document(text=\"the apple is between the pears and the banana\"),\n",
        "        Document(text=\"the bananas are between the apple and the pears\"),\n",
        "        \n",
        "    ],\n",
        "    tags=image.tags\n",
        ")\n",
        "result = client.rank([query])\n",
        "display(Image(data=query.blob, width=250))\n",
        "print()\n",
        "show_scores(result[0])"
      ]
    },
    {
      "cell_type": "markdown",
      "metadata": {
        "id": "NObEzAA5k892"
      },
      "source": [
        "# Using CLIP-as-service to do local image search\n",
        "\n",
        "Another out-of-the-box application of CLIP-as-service is perform searches on locally stored image data, accessing the server only to encode the image data and the queries, while using JINA locally to search."
      ]
    },
    {
      "cell_type": "code",
      "execution_count": null,
      "metadata": {
        "id": "tlOmSu1jtSVi"
      },
      "outputs": [],
      "source": [
        "# You can skip this if you have done any of the previous sections\n",
        "from docarray import DocumentArray, Document\n",
        "from IPython.display import Image\n",
        "\n",
        "# This function is already defined if you ran the previous section\n",
        "def show_scores(result_document):\n",
        "  print(\"Score     \\tText\")\n",
        "  print(\"----------\\t----------\")\n",
        "  for proposed_match in result_document.matches:\n",
        "    print(\"{:.8f}\".format(proposed_match.scores['clip_score'].value) + \"\\t\" + proposed_match.text)\n",
        "\n",
        "def show_image(doc):\n",
        "  fmt = None\n",
        "  if doc.mime_type and doc.mime_type.startswith(\"image/\"):\n",
        "    fmt = doc.mime_type[6:].strip()\n",
        "  display(Image(data=doc.blob, width=250, format=fmt))\n",
        "  print(f\"Label: {doc.tags['value']}\")\n",
        "\n",
        "apples_and_oranges = DocumentArray.pull(\"apples_and_oranges\", show_progress=True)\n",
        "print(\"Done loading!\")"
      ]
    },
    {
      "cell_type": "markdown",
      "metadata": {
        "id": "zXqtonlby9Bj"
      },
      "source": [
        "CLIP works by encoding images and texts into vectors, using a trained neural network. We can then compare these encodings directly.\n",
        "\n",
        "First, we will encode all the images in `apples_and_oranges`.  This may take several minutes.\n",
        "\n"
      ]
    },
    {
      "cell_type": "code",
      "execution_count": null,
      "metadata": {
        "id": "1Lra0tVthVQm"
      },
      "outputs": [],
      "source": [
        "import time, jina\n",
        "\n",
        "def encode_apples_and_oranges():\n",
        "  encoded_apples_and_oranges = []\n",
        "  batchsize = 4\n",
        "  def _add(i, j):\n",
        "      if j >= 3:\n",
        "          raise Exception(\"Can't complete encoding due to server interruptions!\")\n",
        "      try:\n",
        "          encoded_apples_and_oranges.extend(client.encode(apples_and_oranges[i:i+batchsize]))\n",
        "      except jina.excepts.BadClient:\n",
        "          print(f\"fail {j+1}\")\n",
        "          time.sleep(5)\n",
        "          _add(i, j+1)\n",
        "          \n",
        "  for i in range(0, len(apples_and_oranges), batchsize):\n",
        "      _add(i, 0)\n",
        "      if i and i%10 == 0:\n",
        "        print(\"{:.2f}% done\".format(100.0*i/len(apples_and_oranges)))\n",
        "  \n",
        "  print(\"Done encoding!\")\n",
        "  return DocumentArray(encoded_apples_and_oranges)\n",
        "\n",
        "encoded_images = encode_apples_and_oranges()\n",
        "        "
      ]
    },
    {
      "cell_type": "markdown",
      "metadata": {
        "id": "b733KK1e1gf5"
      },
      "source": [
        "You can see that the server has assigned a vector to each image by looking at the `embedding` field in each member of `encoded_images`:"
      ]
    },
    {
      "cell_type": "code",
      "execution_count": null,
      "metadata": {
        "id": "tGGbU_mLzedr"
      },
      "outputs": [],
      "source": [
        "encoded_images[0].embedding"
      ]
    },
    {
      "cell_type": "markdown",
      "metadata": {
        "id": "0DUIwZrz2DBv"
      },
      "source": [
        "Now, let's use CLIP-as-service to encode a text query. In this case, for green apples:"
      ]
    },
    {
      "cell_type": "code",
      "execution_count": null,
      "metadata": {
        "colab": {
          "base_uri": "https://localhost:8080/",
          "height": 17
        },
        "id": "_naJpY4c1w5h",
        "outputId": "58302bf5-41f1-4df7-a5a3-52ce28ad4e19"
      },
      "outputs": [
        {
          "data": {
            "text/html": [
              "<pre style=\"white-space:pre;overflow-x:auto;line-height:normal;font-family:Menlo,'DejaVu Sans Mono',consolas,'Courier New',monospace\">\n",
              "</pre>\n"
            ],
            "text/plain": [
              "\n"
            ]
          },
          "metadata": {},
          "output_type": "display_data"
        },
        {
          "data": {
            "text/html": [
              "<pre style=\"white-space:pre;overflow-x:auto;line-height:normal;font-family:Menlo,'DejaVu Sans Mono',consolas,'Courier New',monospace\">\n",
              "</pre>\n"
            ],
            "text/plain": [
              "\n"
            ]
          },
          "metadata": {},
          "output_type": "display_data"
        }
      ],
      "source": [
        "query = client.encode([Document(text=\"green apple\")])[0]"
      ]
    },
    {
      "cell_type": "markdown",
      "metadata": {
        "id": "hAbi9wE02nS2"
      },
      "source": [
        "You can see that query also has an assigned vector in the `embedding` field:"
      ]
    },
    {
      "cell_type": "code",
      "execution_count": null,
      "metadata": {
        "id": "4SgJmh1u2P-G"
      },
      "outputs": [],
      "source": [
        "query.embedding"
      ]
    },
    {
      "cell_type": "markdown",
      "metadata": {
        "id": "FPAioSMg2zLj"
      },
      "source": [
        "Now we can use a local function in the `DocumentArray` object to find matches in `encoded_images` without invoking the CLIP-as-service server:"
      ]
    },
    {
      "cell_type": "code",
      "execution_count": null,
      "metadata": {
        "id": "Sx8LiEC42vId"
      },
      "outputs": [],
      "source": [
        "result = encoded_images.find(query, limit=5)[0]"
      ]
    },
    {
      "cell_type": "markdown",
      "metadata": {
        "id": "ETPh4Zlr3LWW"
      },
      "source": [
        "The optional `limit` argument restricts the number of items returned. The result should be the same length as `limit`:"
      ]
    },
    {
      "cell_type": "code",
      "execution_count": null,
      "metadata": {
        "colab": {
          "base_uri": "https://localhost:8080/"
        },
        "id": "22U1f6vs3J4b",
        "outputId": "17a82d62-08a5-47fe-98a1-fc1b8defbbfc"
      },
      "outputs": [
        {
          "data": {
            "text/plain": [
              "5"
            ]
          },
          "execution_count": 26,
          "metadata": {},
          "output_type": "execute_result"
        }
      ],
      "source": [
        "len(result)"
      ]
    },
    {
      "cell_type": "markdown",
      "metadata": {
        "id": "RWlVLjov3pHQ"
      },
      "source": [
        "Let's look at the images found:"
      ]
    },
    {
      "cell_type": "code",
      "execution_count": null,
      "metadata": {
        "id": "Pzrr9f5Y3Vy_"
      },
      "outputs": [],
      "source": [
        "for found_image in result:\n",
        "  show_image(found_image)"
      ]
    },
    {
      "cell_type": "markdown",
      "metadata": {
        "id": "giz2Rj4f4KcX"
      },
      "source": [
        "Or alternately, we could search for images of cut oranges:"
      ]
    },
    {
      "cell_type": "code",
      "execution_count": null,
      "metadata": {
        "id": "GcoFATqo32da"
      },
      "outputs": [],
      "source": [
        "query = client.encode([Document(text=\"cut orange\")])[0]\n",
        "result = encoded_images.find(query, limit=5)[0]\n",
        "for found_image in result:\n",
        "  show_image(found_image)"
      ]
    },
    {
      "cell_type": "markdown",
      "metadata": {
        "id": "kuYUVbgI5upJ"
      },
      "source": [
        "Furthermore, you can use the encodings of images to search for similar images.\n",
        "\n",
        "Let's take an image of an orange from another source and encode it:"
      ]
    },
    {
      "cell_type": "code",
      "execution_count": null,
      "metadata": {
        "id": "5mI3RDoV55mW"
      },
      "outputs": [],
      "source": [
        "outside_image = Document(uri=\"https://upload.wikimedia.org/wikipedia/commons/9/9e/Single_Orange_%28Fruit%29.jpg\", tags={'value': 'orange'})\n",
        "outside_image.load_uri_to_blob()\n",
        "show_image(outside_image)\n",
        "image_query = client.encode([outside_image])[0]"
      ]
    },
    {
      "cell_type": "markdown",
      "metadata": {
        "id": "X1I_7bIL7YdZ"
      },
      "source": [
        "Now we're going to use that encoding as a query:"
      ]
    },
    {
      "cell_type": "code",
      "execution_count": null,
      "metadata": {
        "id": "KFLDasrr7eyF"
      },
      "outputs": [],
      "source": [
        "result = encoded_images.find(image_query, limit=5)[0]\n",
        "for found_image in result:\n",
        "  show_image(found_image)"
      ]
    },
    {
      "cell_type": "markdown",
      "metadata": {
        "id": "GmJpcNbf5XgG"
      },
      "source": [
        "Using CLIP-as-service this way, you search local image repositories, using texts or images as queries. The service encodes locally stored objects just once, and then encodes each new query, minimizing the number of calls to the service."
      ]
    }
  ],
  "metadata": {
    "colab": {
      "collapsed_sections": [
        "9N9D7QbCmFLB",
        "diMls_TWxIQA",
        "Vx_ra0csh4CT"
      ],
      "provenance": []
    },
    "kernelspec": {
      "display_name": "Python 3",
      "name": "python3"
    },
    "language_info": {
      "name": "python"
    }
  },
  "nbformat": 4,
  "nbformat_minor": 0
}